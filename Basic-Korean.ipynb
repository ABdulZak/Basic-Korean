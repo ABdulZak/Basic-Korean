{
 "cells": [
  {
   "cell_type": "markdown",
   "metadata": {},
   "source": [
    "# Basic Korean( Lesson 1 )\n",
    "\n",
    "Total points 100 pts.\n",
    "\n",
    ">Midterm Exams 30 pts.\n",
    "\n",
    ">Final Exams 30 pts.\n",
    "\n",
    ">Attendance 10 pts.\n",
    "\n",
    ">HW 10 pts.\n",
    "\n",
    ">Activities 10 pts.\n",
    "\n",
    ">Quiz 10 pts.\n",
    "\n",
    "Prof. name `An Natalya(Natalya Anatolyevna)`"
   ]
  },
  {
   "cell_type": "markdown",
   "metadata": {},
   "source": [
    "Grading System\n",
    "\n",
    "95> `A+`\n",
    "\n",
    "90-94 `A0`\n",
    "\n",
    "84-90 `B+`\n",
    "\n",
    "and etc."
   ]
  },
  {
   "cell_type": "markdown",
   "metadata": {},
   "source": [
    "`ЮН-СОК-ЙОЙ` = президент Южной Кореи\n",
    "\n",
    "`Ханбук` = Южняя Корея\n",
    "\n",
    "`Ханбуго` = Корейский Язык\n",
    "\n",
    "`Гибискус(Мунгунква)` = Корейский национальный цветок, символ Кореи"
   ]
  },
  {
   "cell_type": "markdown",
   "metadata": {},
   "source": [
    "<image src='Pictures/download.png'/>"
   ]
  },
  {
   "cell_type": "markdown",
   "metadata": {},
   "source": [
    "`Тегки` = Корейский Национальный флаг\n",
    "\n",
    "Левый Верх означает `Небо`\n",
    "\n",
    "Левый Вниз означает `Огонь`\n",
    "\n",
    "Правый Верх означает `Вода`\n",
    "\n",
    "Правый Вниз означает `Земля`\n",
    "\n",
    "> По середине изображен Инь-Янь, где красный(женщина), а синий(мужчина)"
   ]
  },
  {
   "cell_type": "markdown",
   "metadata": {},
   "source": [
    "`Седжонг` = Правитель, создавший Корейскую письменность\n",
    "\n",
    "`Хангы(Кун-мин-чон-ым) а после был создан Хангым` = письменность Кореи\n",
    "\n",
    "Корейцы низкого сословия не умели читать и писать и правитель решил их обучить(сделать образованными)\n",
    "\n"
   ]
  },
  {
   "cell_type": "markdown",
   "metadata": {},
   "source": [
    "В корейскрм языке 40 звуков\n",
    "\n",
    "`21 гласных(10 основных, 11 производных)`\n",
    "\n",
    "`19 согласных(14 основных, 5 двойных)`"
   ]
  },
  {
   "cell_type": "markdown",
   "metadata": {},
   "source": [
    "`Anyon` = приветсвие(в основном для ровестников или людей младше)\n",
    "\n",
    "`anyonaseyo` = приветсвие(старшим людям)\n",
    "\n",
    "`Anyoashimnika` = Приветствие(самая вежливая и почетная)\n",
    "\n",
    "`Chonin ....... Imnida` = Я `Абдулазиз` являюсь (или меня зовут Абдулазиз)\n",
    "\n",
    "`Mannaso pangapsimnida` = рад познакомиться"
   ]
  },
  {
   "cell_type": "markdown",
   "metadata": {},
   "source": [
    "### Как создавали гласные буквы\n",
    "\n",
    "`*` = небо\n",
    "\n",
    "`-` = земля\n",
    "\n",
    "`|` = человек\n",
    "\n",
    "Корейские буквы алфавита пишутся сверху вниз"
   ]
  },
  {
   "cell_type": "markdown",
   "metadata": {},
   "source": [
    "#### Корейские гласные\n",
    "\n",
    "`A` = ㅏ\n",
    "\n",
    "`YA` = ㅑ\n",
    "\n",
    "`O` = ㅓ\n",
    "\n",
    "`YO` = ㅕ\n",
    "\n",
    "`OU` = ㅗ\n",
    "\n",
    "`YOU` = ㅛ\n",
    "\n",
    "`UU` = ㅜ\n",
    "\n",
    "`YUU` = ㅠ\n",
    "\n",
    "`I` = ㅣ\n",
    "\n",
    "`Ы` = ㅡ\n",
    "\n",
    "`ㅇ` Буква \"иын\". Читается как носовой н (похоже на английский ng). В начале слога эта буква не читается."
   ]
  },
  {
   "cell_type": "markdown",
   "metadata": {},
   "source": [
    "`아이` = ребенок"
   ]
  }
 ],
 "metadata": {
  "kernelspec": {
   "display_name": "Python 3.9.12 ('base')",
   "language": "python",
   "name": "python3"
  },
  "language_info": {
   "name": "python",
   "version": "3.9.12"
  },
  "orig_nbformat": 4,
  "vscode": {
   "interpreter": {
    "hash": "6e59641d4ca1f67daa4199c263609b5fb652a61fc0c1f157fcb6e4528b365086"
   }
  }
 },
 "nbformat": 4,
 "nbformat_minor": 2
}
